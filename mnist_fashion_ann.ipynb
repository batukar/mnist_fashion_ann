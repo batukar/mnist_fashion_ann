{
 "cells": [
  {
   "cell_type": "markdown",
   "metadata": {},
   "source": [
    "MNIST Fashion veristei ile YSA modeli"
   ]
  },
  {
   "cell_type": "code",
   "execution_count": 114,
   "metadata": {},
   "outputs": [],
   "source": [
    "#Gerekli kütüphane kurulumları\n",
    "import pandas as pd\n",
    "import numpy as np\n",
    "#Veri görselleştirme paketleri\n",
    "import matplotlib.pyplot as plt\n",
    "#Keras\n",
    "import keras\n",
    "from keras.models import Sequential\n",
    "from keras.layers import Convolution2D\n",
    "from keras.layers import MaxPooling2D\n",
    "from keras.layers import Flatten\n",
    "from keras.layers import Dense\n",
    "from keras.wrappers.scikit_learn import KerasClassifier\n",
    "from keras.layers import Dropout\n",
    "#Model hesaplama paketleri\n",
    "from sklearn.metrics import f1_score, roc_auc_score, log_loss\n",
    "from sklearn.model_selection import cross_val_score, cross_validate\n",
    "#Ölçeklendirme paketleri\n",
    "from sklearn.preprocessing import MinMaxScaler"
   ]
  },
  {
   "cell_type": "code",
   "execution_count": 115,
   "metadata": {},
   "outputs": [
    {
     "name": "stdout",
     "output_type": "stream",
     "text": [
      "  Eğitim data boyutları: \n",
      "X_train:  (60000, 28, 28)\n",
      "y_train:  (60000,)\n",
      "  Test data boyutları: \n",
      "X_test:  (10000, 28, 28)\n",
      "y_test:  (10000,)\n"
     ]
    }
   ],
   "source": [
    "#kerastan mnist fashion datasetini çekiyoruz\n",
    "mnist = keras.datasets.fashion_mnist\n",
    "(X_train, y_train), (X_test, y_test) = mnist.load_data()\n",
    "print(\"  Eğitim data boyutları: \")\n",
    "print(\"X_train: \", X_train.shape) \n",
    "print(\"y_train: \", y_train.shape) \n",
    "print(\"  Test data boyutları: \")\n",
    "print(\"X_test: \", X_test.shape)\n",
    "print(\"y_test: \", y_test.shape)\n",
    "plt.show(mnist)"
   ]
  },
  {
   "cell_type": "code",
   "execution_count": 116,
   "metadata": {},
   "outputs": [],
   "source": [
    "#datamız 28x28 den oluşan 3D boyutundaydı, biz bunu 2D ye çeviriyoruz\n",
    "X_train = X_train.reshape(60000, 784)\n",
    "X_test = X_test.reshape(10000, 784)"
   ]
  },
  {
   "cell_type": "code",
   "execution_count": 117,
   "metadata": {},
   "outputs": [
    {
     "name": "stdout",
     "output_type": "stream",
     "text": [
      "Number of unique classes:  10\n",
      "Classes:  [0 1 2 3 4 5 6 7 8 9]\n"
     ]
    }
   ],
   "source": [
    "#Özellik ölçeklendirmek için sklearn kütüphanesinden mixmaxscaler metodunu kullanıyoruz\n",
    "minmax = MinMaxScaler()\n",
    "\n",
    "#Eğitim verilerini ölçeklendirmemiz için x_train datasına fit_transform metotunu uyguluyoruz\n",
    "X_train = minmax.fit_transform(X_train)\n",
    "\n",
    "#Test verilerini de eğitim modeline uygun hale getirmek için fit metotunu uyguluyoruz\n",
    "X_test = minmax.transform(X_test)\n",
    "\n",
    "print('Number of unique classes: ', len(np.unique(y_train)))\n",
    "print('Classes: ', np.unique(y_train))"
   ]
  },
  {
   "cell_type": "code",
   "execution_count": 118,
   "metadata": {},
   "outputs": [
    {
     "name": "stdout",
     "output_type": "stream",
     "text": [
      "Model: \"sequential_25\"\n",
      "_________________________________________________________________\n",
      "Layer (type)                 Output Shape              Param #   \n",
      "=================================================================\n",
      "dense_49 (Dense)             (None, 256)               200960    \n",
      "_________________________________________________________________\n",
      "dense_50 (Dense)             (None, 10)                2570      \n",
      "=================================================================\n",
      "Total params: 203,530\n",
      "Trainable params: 203,530\n",
      "Non-trainable params: 0\n",
      "_________________________________________________________________\n"
     ]
    }
   ],
   "source": [
    "#Sıralı katmanlar oluşturmak için sequential metotunu kullanıyoruz\n",
    "classifier = Sequential()\n",
    "#Yoğunluk katmanını ekliyoruz\n",
    "classifier.add(Dense(input_dim = X_train.shape[1], units = 256, kernel_initializer='uniform', activation='relu'))\n",
    "#Çıktı katmanını ekliyoruz\n",
    "classifier.add(Dense(units = 10, kernel_initializer='uniform', activation='softmax'))\n",
    "#Sinir ağını çalıştırıyoruz\n",
    "classifier.compile(optimizer='adam', loss='sparse_categorical_crossentropy', metrics=['accuracy'])\n",
    "#modeli görüntülüyoruz\n",
    "classifier.summary()"
   ]
  },
  {
   "cell_type": "code",
   "execution_count": 119,
   "metadata": {},
   "outputs": [
    {
     "name": "stdout",
     "output_type": "stream",
     "text": [
      "Epoch 1/25\n",
      "1875/1875 [==============================] - 1s 690us/step - loss: 0.4978 - accuracy: 0.8221\n",
      "Epoch 2/25\n",
      "1875/1875 [==============================] - 1s 718us/step - loss: 0.3653 - accuracy: 0.8681\n",
      "Epoch 3/25\n",
      "1875/1875 [==============================] - 1s 696us/step - loss: 0.3274 - accuracy: 0.8804\n",
      "Epoch 4/25\n",
      "1875/1875 [==============================] - 1s 758us/step - loss: 0.3026 - accuracy: 0.8885\n",
      "Epoch 5/25\n",
      "1875/1875 [==============================] - 1s 729us/step - loss: 0.2868 - accuracy: 0.8945\n",
      "Epoch 6/25\n",
      "1875/1875 [==============================] - 1s 707us/step - loss: 0.2706 - accuracy: 0.8992\n",
      "Epoch 7/25\n",
      "1875/1875 [==============================] - 1s 700us/step - loss: 0.2577 - accuracy: 0.9037\n",
      "Epoch 8/25\n",
      "1875/1875 [==============================] - 1s 722us/step - loss: 0.2477 - accuracy: 0.9071\n",
      "Epoch 9/25\n",
      "1875/1875 [==============================] - 2s 808us/step - loss: 0.2376 - accuracy: 0.9102\n",
      "Epoch 10/25\n",
      "1875/1875 [==============================] - 1s 749us/step - loss: 0.2301 - accuracy: 0.9132\n",
      "Epoch 11/25\n",
      "1875/1875 [==============================] - 2s 898us/step - loss: 0.2188 - accuracy: 0.9177\n",
      "Epoch 12/25\n",
      "1875/1875 [==============================] - 2s 850us/step - loss: 0.2109 - accuracy: 0.9209\n",
      "Epoch 13/25\n",
      "1875/1875 [==============================] - 1s 782us/step - loss: 0.2039 - accuracy: 0.9234\n",
      "Epoch 14/25\n",
      "1875/1875 [==============================] - 1s 790us/step - loss: 0.1981 - accuracy: 0.9247\n",
      "Epoch 15/25\n",
      "1875/1875 [==============================] - 1s 614us/step - loss: 0.1902 - accuracy: 0.9289\n",
      "Epoch 16/25\n",
      "1875/1875 [==============================] - 2s 949us/step - loss: 0.1848 - accuracy: 0.9301\n",
      "Epoch 17/25\n",
      "1875/1875 [==============================] - 1s 625us/step - loss: 0.1780 - accuracy: 0.9331\n",
      "Epoch 18/25\n",
      "1875/1875 [==============================] - 2s 866us/step - loss: 0.1732 - accuracy: 0.9341\n",
      "Epoch 19/25\n",
      "1875/1875 [==============================] - 2s 837us/step - loss: 0.1686 - accuracy: 0.9361\n",
      "Epoch 20/25\n",
      "1875/1875 [==============================] - 2s 939us/step - loss: 0.1640 - accuracy: 0.9375\n",
      "Epoch 21/25\n",
      "1875/1875 [==============================] - 2s 1ms/step - loss: 0.1583 - accuracy: 0.9405\n",
      "Epoch 22/25\n",
      "1875/1875 [==============================] - 2s 861us/step - loss: 0.1536 - accuracy: 0.9413\n",
      "Epoch 23/25\n",
      "1875/1875 [==============================] - 2s 861us/step - loss: 0.1507 - accuracy: 0.9434\n",
      "Epoch 24/25\n",
      "1875/1875 [==============================] - 2s 874us/step - loss: 0.1460 - accuracy: 0.9446\n",
      "Epoch 25/25\n",
      "1875/1875 [==============================] - 2s 871us/step - loss: 0.1428 - accuracy: 0.9462\n"
     ]
    }
   ],
   "source": [
    "#modelimizde bulunan eğitim datalarını düzeltiyoruz ve adımları başlatıyoruz\n",
    "classifier_e25_fit = classifier_e25.fit(X_train, y_train, epochs=25, verbose=1)"
   ]
  },
  {
   "cell_type": "code",
   "execution_count": 120,
   "metadata": {},
   "outputs": [
    {
     "name": "stdout",
     "output_type": "stream",
     "text": [
      "313/313 [==============================] - 0s 508us/step - loss: 0.3884 - accuracy: 0.8897\n"
     ]
    }
   ],
   "source": [
    "#test datamızın başarısını hesaplıyoruz\n",
    "test_loss_e25 = classifier_e25.evaluate(X_test, y_test, verbose=1)"
   ]
  }
 ],
 "metadata": {
  "kernelspec": {
   "display_name": "Python 3",
   "language": "python",
   "name": "python3"
  },
  "language_info": {
   "codemirror_mode": {
    "name": "ipython",
    "version": 3
   },
   "file_extension": ".py",
   "mimetype": "text/x-python",
   "name": "python",
   "nbconvert_exporter": "python",
   "pygments_lexer": "ipython3",
   "version": "3.8.3"
  }
 },
 "nbformat": 4,
 "nbformat_minor": 4
}
